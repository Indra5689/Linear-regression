{
 "cells": [
  {
   "cell_type": "code",
   "execution_count": 22,
   "id": "5d91ecf5-5f21-4bc4-9c89-685cce45f750",
   "metadata": {},
   "outputs": [
    {
     "data": {
      "text/html": [
       "<div>\n",
       "<style scoped>\n",
       "    .dataframe tbody tr th:only-of-type {\n",
       "        vertical-align: middle;\n",
       "    }\n",
       "\n",
       "    .dataframe tbody tr th {\n",
       "        vertical-align: top;\n",
       "    }\n",
       "\n",
       "    .dataframe thead th {\n",
       "        text-align: right;\n",
       "    }\n",
       "</style>\n",
       "<table border=\"1\" class=\"dataframe\">\n",
       "  <thead>\n",
       "    <tr style=\"text-align: right;\">\n",
       "      <th></th>\n",
       "      <th>Department</th>\n",
       "      <th>WorkedHours</th>\n",
       "      <th>Certification</th>\n",
       "      <th>YearsExperience</th>\n",
       "      <th>Salary</th>\n",
       "    </tr>\n",
       "  </thead>\n",
       "  <tbody>\n",
       "    <tr>\n",
       "      <th>0</th>\n",
       "      <td>Development</td>\n",
       "      <td>2300</td>\n",
       "      <td>0</td>\n",
       "      <td>1.1</td>\n",
       "      <td>39343</td>\n",
       "    </tr>\n",
       "    <tr>\n",
       "      <th>1</th>\n",
       "      <td>Testing</td>\n",
       "      <td>2100</td>\n",
       "      <td>1</td>\n",
       "      <td>1.3</td>\n",
       "      <td>46205</td>\n",
       "    </tr>\n",
       "    <tr>\n",
       "      <th>2</th>\n",
       "      <td>Development</td>\n",
       "      <td>2104</td>\n",
       "      <td>2</td>\n",
       "      <td>1.5</td>\n",
       "      <td>37731</td>\n",
       "    </tr>\n",
       "    <tr>\n",
       "      <th>3</th>\n",
       "      <td>UX Designer</td>\n",
       "      <td>1200</td>\n",
       "      <td>1</td>\n",
       "      <td>2.0</td>\n",
       "      <td>43525</td>\n",
       "    </tr>\n",
       "    <tr>\n",
       "      <th>4</th>\n",
       "      <td>Testing</td>\n",
       "      <td>1254</td>\n",
       "      <td>2</td>\n",
       "      <td>2.2</td>\n",
       "      <td>39891</td>\n",
       "    </tr>\n",
       "    <tr>\n",
       "      <th>5</th>\n",
       "      <td>UX Designer</td>\n",
       "      <td>1236</td>\n",
       "      <td>1</td>\n",
       "      <td>2.9</td>\n",
       "      <td>56642</td>\n",
       "    </tr>\n",
       "    <tr>\n",
       "      <th>6</th>\n",
       "      <td>Development</td>\n",
       "      <td>1452</td>\n",
       "      <td>2</td>\n",
       "      <td>3.0</td>\n",
       "      <td>60150</td>\n",
       "    </tr>\n",
       "    <tr>\n",
       "      <th>7</th>\n",
       "      <td>Testing</td>\n",
       "      <td>1789</td>\n",
       "      <td>1</td>\n",
       "      <td>3.2</td>\n",
       "      <td>54445</td>\n",
       "    </tr>\n",
       "    <tr>\n",
       "      <th>8</th>\n",
       "      <td>UX Designer</td>\n",
       "      <td>1645</td>\n",
       "      <td>1</td>\n",
       "      <td>3.2</td>\n",
       "      <td>64445</td>\n",
       "    </tr>\n",
       "    <tr>\n",
       "      <th>9</th>\n",
       "      <td>UX Designer</td>\n",
       "      <td>1258</td>\n",
       "      <td>0</td>\n",
       "      <td>3.7</td>\n",
       "      <td>57189</td>\n",
       "    </tr>\n",
       "    <tr>\n",
       "      <th>10</th>\n",
       "      <td>Testing</td>\n",
       "      <td>1478</td>\n",
       "      <td>3</td>\n",
       "      <td>3.9</td>\n",
       "      <td>63218</td>\n",
       "    </tr>\n",
       "    <tr>\n",
       "      <th>11</th>\n",
       "      <td>Development</td>\n",
       "      <td>1257</td>\n",
       "      <td>2</td>\n",
       "      <td>4.0</td>\n",
       "      <td>55794</td>\n",
       "    </tr>\n",
       "    <tr>\n",
       "      <th>12</th>\n",
       "      <td>Development</td>\n",
       "      <td>1596</td>\n",
       "      <td>1</td>\n",
       "      <td>4.0</td>\n",
       "      <td>56957</td>\n",
       "    </tr>\n",
       "    <tr>\n",
       "      <th>13</th>\n",
       "      <td>Testing</td>\n",
       "      <td>1256</td>\n",
       "      <td>2</td>\n",
       "      <td>4.1</td>\n",
       "      <td>57081</td>\n",
       "    </tr>\n",
       "    <tr>\n",
       "      <th>14</th>\n",
       "      <td>UX Designer</td>\n",
       "      <td>1489</td>\n",
       "      <td>3</td>\n",
       "      <td>4.5</td>\n",
       "      <td>61111</td>\n",
       "    </tr>\n",
       "    <tr>\n",
       "      <th>15</th>\n",
       "      <td>Development</td>\n",
       "      <td>1236</td>\n",
       "      <td>3</td>\n",
       "      <td>4.9</td>\n",
       "      <td>67938</td>\n",
       "    </tr>\n",
       "    <tr>\n",
       "      <th>16</th>\n",
       "      <td>Testing</td>\n",
       "      <td>2311</td>\n",
       "      <td>2</td>\n",
       "      <td>5.1</td>\n",
       "      <td>66029</td>\n",
       "    </tr>\n",
       "    <tr>\n",
       "      <th>17</th>\n",
       "      <td>UX Designer</td>\n",
       "      <td>2245</td>\n",
       "      <td>3</td>\n",
       "      <td>5.3</td>\n",
       "      <td>83088</td>\n",
       "    </tr>\n",
       "    <tr>\n",
       "      <th>18</th>\n",
       "      <td>Development</td>\n",
       "      <td>2365</td>\n",
       "      <td>1</td>\n",
       "      <td>5.9</td>\n",
       "      <td>81363</td>\n",
       "    </tr>\n",
       "    <tr>\n",
       "      <th>19</th>\n",
       "      <td>Development</td>\n",
       "      <td>1500</td>\n",
       "      <td>3</td>\n",
       "      <td>6.0</td>\n",
       "      <td>93940</td>\n",
       "    </tr>\n",
       "    <tr>\n",
       "      <th>20</th>\n",
       "      <td>Testing</td>\n",
       "      <td>1456</td>\n",
       "      <td>2</td>\n",
       "      <td>6.8</td>\n",
       "      <td>91738</td>\n",
       "    </tr>\n",
       "    <tr>\n",
       "      <th>21</th>\n",
       "      <td>Testing</td>\n",
       "      <td>1760</td>\n",
       "      <td>1</td>\n",
       "      <td>7.1</td>\n",
       "      <td>98273</td>\n",
       "    </tr>\n",
       "    <tr>\n",
       "      <th>22</th>\n",
       "      <td>UX Designer</td>\n",
       "      <td>2400</td>\n",
       "      <td>4</td>\n",
       "      <td>7.9</td>\n",
       "      <td>101302</td>\n",
       "    </tr>\n",
       "    <tr>\n",
       "      <th>23</th>\n",
       "      <td>Development</td>\n",
       "      <td>2148</td>\n",
       "      <td>3</td>\n",
       "      <td>8.2</td>\n",
       "      <td>113812</td>\n",
       "    </tr>\n",
       "    <tr>\n",
       "      <th>24</th>\n",
       "      <td>UX Designer</td>\n",
       "      <td>1450</td>\n",
       "      <td>2</td>\n",
       "      <td>8.7</td>\n",
       "      <td>109431</td>\n",
       "    </tr>\n",
       "    <tr>\n",
       "      <th>25</th>\n",
       "      <td>UX Designer</td>\n",
       "      <td>1000</td>\n",
       "      <td>4</td>\n",
       "      <td>9.0</td>\n",
       "      <td>105582</td>\n",
       "    </tr>\n",
       "    <tr>\n",
       "      <th>26</th>\n",
       "      <td>Testing</td>\n",
       "      <td>1540</td>\n",
       "      <td>3</td>\n",
       "      <td>9.5</td>\n",
       "      <td>116969</td>\n",
       "    </tr>\n",
       "    <tr>\n",
       "      <th>27</th>\n",
       "      <td>Development</td>\n",
       "      <td>1500</td>\n",
       "      <td>2</td>\n",
       "      <td>9.6</td>\n",
       "      <td>112635</td>\n",
       "    </tr>\n",
       "    <tr>\n",
       "      <th>28</th>\n",
       "      <td>Testing</td>\n",
       "      <td>3000</td>\n",
       "      <td>4</td>\n",
       "      <td>10.3</td>\n",
       "      <td>122391</td>\n",
       "    </tr>\n",
       "    <tr>\n",
       "      <th>29</th>\n",
       "      <td>UX Designer</td>\n",
       "      <td>2100</td>\n",
       "      <td>3</td>\n",
       "      <td>10.5</td>\n",
       "      <td>121872</td>\n",
       "    </tr>\n",
       "  </tbody>\n",
       "</table>\n",
       "</div>"
      ],
      "text/plain": [
       "     Department  WorkedHours  Certification  YearsExperience  Salary\n",
       "0   Development         2300              0              1.1   39343\n",
       "1       Testing         2100              1              1.3   46205\n",
       "2   Development         2104              2              1.5   37731\n",
       "3   UX Designer         1200              1              2.0   43525\n",
       "4       Testing         1254              2              2.2   39891\n",
       "5   UX Designer         1236              1              2.9   56642\n",
       "6   Development         1452              2              3.0   60150\n",
       "7       Testing         1789              1              3.2   54445\n",
       "8   UX Designer         1645              1              3.2   64445\n",
       "9   UX Designer         1258              0              3.7   57189\n",
       "10      Testing         1478              3              3.9   63218\n",
       "11  Development         1257              2              4.0   55794\n",
       "12  Development         1596              1              4.0   56957\n",
       "13      Testing         1256              2              4.1   57081\n",
       "14  UX Designer         1489              3              4.5   61111\n",
       "15  Development         1236              3              4.9   67938\n",
       "16      Testing         2311              2              5.1   66029\n",
       "17  UX Designer         2245              3              5.3   83088\n",
       "18  Development         2365              1              5.9   81363\n",
       "19  Development         1500              3              6.0   93940\n",
       "20      Testing         1456              2              6.8   91738\n",
       "21      Testing         1760              1              7.1   98273\n",
       "22  UX Designer         2400              4              7.9  101302\n",
       "23  Development         2148              3              8.2  113812\n",
       "24  UX Designer         1450              2              8.7  109431\n",
       "25  UX Designer         1000              4              9.0  105582\n",
       "26      Testing         1540              3              9.5  116969\n",
       "27  Development         1500              2              9.6  112635\n",
       "28      Testing         3000              4             10.3  122391\n",
       "29  UX Designer         2100              3             10.5  121872"
      ]
     },
     "execution_count": 22,
     "metadata": {},
     "output_type": "execute_result"
    }
   ],
   "source": [
    "import pandas as pd\n",
    "import numpy as np\n",
    "df=pd.read_csv(\"C:\\\\Users\\\\Indrajit\\\\Documents\\\\Employee_Data.csv\")\n",
    "df\n"
   ]
  },
  {
   "cell_type": "raw",
   "id": "70e9c2e4-907e-4c3d-bc18-d82e0f49d6a6",
   "metadata": {},
   "source": []
  },
  {
   "cell_type": "code",
   "execution_count": 27,
   "id": "4a9b2539-4022-4e6a-8b9c-5aec665fbdc1",
   "metadata": {},
   "outputs": [
    {
     "data": {
      "text/plain": [
       "array([['Development', 2300, 0, 1.1],\n",
       "       ['Testing', 2100, 1, 1.3],\n",
       "       ['Development', 2104, 2, 1.5],\n",
       "       ['UX Designer', 1200, 1, 2.0],\n",
       "       ['Testing', 1254, 2, 2.2],\n",
       "       ['UX Designer', 1236, 1, 2.9],\n",
       "       ['Development', 1452, 2, 3.0],\n",
       "       ['Testing', 1789, 1, 3.2],\n",
       "       ['UX Designer', 1645, 1, 3.2],\n",
       "       ['UX Designer', 1258, 0, 3.7],\n",
       "       ['Testing', 1478, 3, 3.9],\n",
       "       ['Development', 1257, 2, 4.0],\n",
       "       ['Development', 1596, 1, 4.0],\n",
       "       ['Testing', 1256, 2, 4.1],\n",
       "       ['UX Designer', 1489, 3, 4.5],\n",
       "       ['Development', 1236, 3, 4.9],\n",
       "       ['Testing', 2311, 2, 5.1],\n",
       "       ['UX Designer', 2245, 3, 5.3],\n",
       "       ['Development', 2365, 1, 5.9],\n",
       "       ['Development', 1500, 3, 6.0],\n",
       "       ['Testing', 1456, 2, 6.8],\n",
       "       ['Testing', 1760, 1, 7.1],\n",
       "       ['UX Designer', 2400, 4, 7.9],\n",
       "       ['Development', 2148, 3, 8.2],\n",
       "       ['UX Designer', 1450, 2, 8.7],\n",
       "       ['UX Designer', 1000, 4, 9.0],\n",
       "       ['Testing', 1540, 3, 9.5],\n",
       "       ['Development', 1500, 2, 9.6],\n",
       "       ['Testing', 3000, 4, 10.3],\n",
       "       ['UX Designer', 2100, 3, 10.5]], dtype=object)"
      ]
     },
     "execution_count": 27,
     "metadata": {},
     "output_type": "execute_result"
    }
   ],
   "source": [
    "x=df.iloc[:,0:4].values\n",
    "x"
   ]
  },
  {
   "cell_type": "markdown",
   "id": "74ba097a-afaa-4f5c-956f-21756d5cf015",
   "metadata": {},
   "source": []
  },
  {
   "cell_type": "code",
   "execution_count": 30,
   "id": "b582c8dc-cc89-4f84-99f4-5233ea16568e",
   "metadata": {},
   "outputs": [
    {
     "data": {
      "text/plain": [
       "array([[0, 2300, 0, 1.1],\n",
       "       [1, 2100, 1, 1.3],\n",
       "       [0, 2104, 2, 1.5],\n",
       "       [2, 1200, 1, 2.0],\n",
       "       [1, 1254, 2, 2.2],\n",
       "       [2, 1236, 1, 2.9],\n",
       "       [0, 1452, 2, 3.0],\n",
       "       [1, 1789, 1, 3.2],\n",
       "       [2, 1645, 1, 3.2],\n",
       "       [2, 1258, 0, 3.7],\n",
       "       [1, 1478, 3, 3.9],\n",
       "       [0, 1257, 2, 4.0],\n",
       "       [0, 1596, 1, 4.0],\n",
       "       [1, 1256, 2, 4.1],\n",
       "       [2, 1489, 3, 4.5],\n",
       "       [0, 1236, 3, 4.9],\n",
       "       [1, 2311, 2, 5.1],\n",
       "       [2, 2245, 3, 5.3],\n",
       "       [0, 2365, 1, 5.9],\n",
       "       [0, 1500, 3, 6.0],\n",
       "       [1, 1456, 2, 6.8],\n",
       "       [1, 1760, 1, 7.1],\n",
       "       [2, 2400, 4, 7.9],\n",
       "       [0, 2148, 3, 8.2],\n",
       "       [2, 1450, 2, 8.7],\n",
       "       [2, 1000, 4, 9.0],\n",
       "       [1, 1540, 3, 9.5],\n",
       "       [0, 1500, 2, 9.6],\n",
       "       [1, 3000, 4, 10.3],\n",
       "       [2, 2100, 3, 10.5]], dtype=object)"
      ]
     },
     "execution_count": 30,
     "metadata": {},
     "output_type": "execute_result"
    }
   ],
   "source": [
    "from sklearn.preprocessing import LabelEncoder\n",
    "labelencoder_x=LabelEncoder()\n",
    "x[:,0]=labelencoder_x.fit_transform(x[:,0])\n",
    "x"
   ]
  },
  {
   "cell_type": "code",
   "execution_count": 31,
   "id": "8e2fe90c-0788-454a-be9f-5917b4b864bb",
   "metadata": {},
   "outputs": [],
   "source": [
    "from sklearn.preprocessing import StandardScaler"
   ]
  },
  {
   "cell_type": "code",
   "execution_count": 32,
   "id": "23a32e8c-2473-4ead-82a7-e764258dedb2",
   "metadata": {},
   "outputs": [],
   "source": [
    "sc=StandardScaler()"
   ]
  },
  {
   "cell_type": "code",
   "execution_count": 34,
   "id": "cbb8e89c-82c5-4637-8ba6-f61e24f69c94",
   "metadata": {},
   "outputs": [
    {
     "data": {
      "text/plain": [
       "array([[-1.22474487,  1.23991938, -1.89010336, -1.51005294],\n",
       "       [ 0.        ,  0.81661831, -0.97553722, -1.43837321],\n",
       "       [-1.22474487,  0.82508433, -0.06097108, -1.36669348],\n",
       "       [ 1.22474487, -1.0882365 , -0.97553722, -1.18749416],\n",
       "       [ 0.        , -0.97394521, -0.06097108, -1.11581443],\n",
       "       [ 1.22474487, -1.01204231, -0.97553722, -0.86493538],\n",
       "       [-1.22474487, -0.55487715, -0.06097108, -0.82909552],\n",
       "       [ 0.        ,  0.15838515, -0.97553722, -0.75741579],\n",
       "       [ 1.22474487, -0.14639162, -0.97553722, -0.75741579],\n",
       "       [ 1.22474487, -0.96547919, -1.89010336, -0.57821647],\n",
       "       [ 0.        , -0.49984801,  0.85359507, -0.50653674],\n",
       "       [-1.22474487, -0.96759569, -0.06097108, -0.47069688],\n",
       "       [-1.22474487, -0.25010038, -0.97553722, -0.47069688],\n",
       "       [ 0.        , -0.9697122 , -0.06097108, -0.43485702],\n",
       "       [ 1.22474487, -0.47656645,  0.85359507, -0.29149756],\n",
       "       [-1.22474487, -1.01204231,  0.85359507, -0.1481381 ],\n",
       "       [ 0.        ,  1.26320094, -0.06097108, -0.07645838],\n",
       "       [ 1.22474487,  1.12351159,  0.85359507, -0.00477865],\n",
       "       [-1.22474487,  1.37749223, -0.97553722,  0.21026054],\n",
       "       [-1.22474487, -0.4532849 ,  0.85359507,  0.2461004 ],\n",
       "       [ 0.        , -0.54641113, -0.06097108,  0.53281931],\n",
       "       [ 0.        ,  0.0970065 , -0.97553722,  0.6403389 ],\n",
       "       [ 1.22474487,  1.45156992,  1.76816121,  0.92705781],\n",
       "       [-1.22474487,  0.91821057,  0.85359507,  1.03457741],\n",
       "       [ 1.22474487, -0.55911016, -0.06097108,  1.21377673],\n",
       "       [ 1.22474487, -1.51153757,  1.76816121,  1.32129632],\n",
       "       [ 0.        , -0.36862468,  0.85359507,  1.50049564],\n",
       "       [-1.22474487, -0.4532849 , -0.06097108,  1.5363355 ],\n",
       "       [ 0.        ,  2.72147313,  1.76816121,  1.78721455],\n",
       "       [ 1.22474487,  0.81661831,  0.85359507,  1.85889428]])"
      ]
     },
     "execution_count": 34,
     "metadata": {},
     "output_type": "execute_result"
    }
   ],
   "source": [
    "x=sc.fit_transform(x)\n",
    "x"
   ]
  },
  {
   "cell_type": "code",
   "execution_count": 35,
   "id": "20be6a69-8337-4c95-a3d0-fcb24c629129",
   "metadata": {},
   "outputs": [
    {
     "data": {
      "text/plain": [
       "array([ 39343,  46205,  37731,  43525,  39891,  56642,  60150,  54445,\n",
       "        64445,  57189,  63218,  55794,  56957,  57081,  61111,  67938,\n",
       "        66029,  83088,  81363,  93940,  91738,  98273, 101302, 113812,\n",
       "       109431, 105582, 116969, 112635, 122391, 121872], dtype=int64)"
      ]
     },
     "execution_count": 35,
     "metadata": {},
     "output_type": "execute_result"
    }
   ],
   "source": [
    "y=df.iloc[:,4].values\n",
    "y"
   ]
  },
  {
   "cell_type": "code",
   "execution_count": 36,
   "id": "d484d5d6-8ae0-4169-8457-4347dbc1cc5d",
   "metadata": {},
   "outputs": [],
   "source": [
    "from sklearn.model_selection import train_test_split"
   ]
  },
  {
   "cell_type": "code",
   "execution_count": 37,
   "id": "04ca0eb7-92d4-4082-af1e-24248e8ae54e",
   "metadata": {},
   "outputs": [],
   "source": [
    "x_train,x_test,y_train,y_test=train_test_split(x,y,test_size=.2,random_state=0)\n"
   ]
  },
  {
   "cell_type": "code",
   "execution_count": 39,
   "id": "6ba7b81b-2549-463f-8ba7-1075f4741752",
   "metadata": {},
   "outputs": [
    {
     "data": {
      "text/plain": [
       "(24, 4)"
      ]
     },
     "execution_count": 39,
     "metadata": {},
     "output_type": "execute_result"
    }
   ],
   "source": [
    "x_train.shape"
   ]
  },
  {
   "cell_type": "code",
   "execution_count": 40,
   "id": "a22a18b0-dd35-430d-ab3b-13d90d9385d5",
   "metadata": {},
   "outputs": [
    {
     "data": {
      "text/plain": [
       "(6, 4)"
      ]
     },
     "execution_count": 40,
     "metadata": {},
     "output_type": "execute_result"
    }
   ],
   "source": [
    "x_test.shape"
   ]
  },
  {
   "cell_type": "markdown",
   "id": "ef07bf91-5149-482e-8078-0b79b7b63442",
   "metadata": {},
   "source": [
    " "
   ]
  },
  {
   "cell_type": "code",
   "execution_count": 43,
   "id": "a0729ebf-5284-46eb-99b9-36f6417bc506",
   "metadata": {},
   "outputs": [
    {
     "data": {
      "text/html": [
       "<style>#sk-container-id-1 {color: black;background-color: white;}#sk-container-id-1 pre{padding: 0;}#sk-container-id-1 div.sk-toggleable {background-color: white;}#sk-container-id-1 label.sk-toggleable__label {cursor: pointer;display: block;width: 100%;margin-bottom: 0;padding: 0.3em;box-sizing: border-box;text-align: center;}#sk-container-id-1 label.sk-toggleable__label-arrow:before {content: \"▸\";float: left;margin-right: 0.25em;color: #696969;}#sk-container-id-1 label.sk-toggleable__label-arrow:hover:before {color: black;}#sk-container-id-1 div.sk-estimator:hover label.sk-toggleable__label-arrow:before {color: black;}#sk-container-id-1 div.sk-toggleable__content {max-height: 0;max-width: 0;overflow: hidden;text-align: left;background-color: #f0f8ff;}#sk-container-id-1 div.sk-toggleable__content pre {margin: 0.2em;color: black;border-radius: 0.25em;background-color: #f0f8ff;}#sk-container-id-1 input.sk-toggleable__control:checked~div.sk-toggleable__content {max-height: 200px;max-width: 100%;overflow: auto;}#sk-container-id-1 input.sk-toggleable__control:checked~label.sk-toggleable__label-arrow:before {content: \"▾\";}#sk-container-id-1 div.sk-estimator input.sk-toggleable__control:checked~label.sk-toggleable__label {background-color: #d4ebff;}#sk-container-id-1 div.sk-label input.sk-toggleable__control:checked~label.sk-toggleable__label {background-color: #d4ebff;}#sk-container-id-1 input.sk-hidden--visually {border: 0;clip: rect(1px 1px 1px 1px);clip: rect(1px, 1px, 1px, 1px);height: 1px;margin: -1px;overflow: hidden;padding: 0;position: absolute;width: 1px;}#sk-container-id-1 div.sk-estimator {font-family: monospace;background-color: #f0f8ff;border: 1px dotted black;border-radius: 0.25em;box-sizing: border-box;margin-bottom: 0.5em;}#sk-container-id-1 div.sk-estimator:hover {background-color: #d4ebff;}#sk-container-id-1 div.sk-parallel-item::after {content: \"\";width: 100%;border-bottom: 1px solid gray;flex-grow: 1;}#sk-container-id-1 div.sk-label:hover label.sk-toggleable__label {background-color: #d4ebff;}#sk-container-id-1 div.sk-serial::before {content: \"\";position: absolute;border-left: 1px solid gray;box-sizing: border-box;top: 0;bottom: 0;left: 50%;z-index: 0;}#sk-container-id-1 div.sk-serial {display: flex;flex-direction: column;align-items: center;background-color: white;padding-right: 0.2em;padding-left: 0.2em;position: relative;}#sk-container-id-1 div.sk-item {position: relative;z-index: 1;}#sk-container-id-1 div.sk-parallel {display: flex;align-items: stretch;justify-content: center;background-color: white;position: relative;}#sk-container-id-1 div.sk-item::before, #sk-container-id-1 div.sk-parallel-item::before {content: \"\";position: absolute;border-left: 1px solid gray;box-sizing: border-box;top: 0;bottom: 0;left: 50%;z-index: -1;}#sk-container-id-1 div.sk-parallel-item {display: flex;flex-direction: column;z-index: 1;position: relative;background-color: white;}#sk-container-id-1 div.sk-parallel-item:first-child::after {align-self: flex-end;width: 50%;}#sk-container-id-1 div.sk-parallel-item:last-child::after {align-self: flex-start;width: 50%;}#sk-container-id-1 div.sk-parallel-item:only-child::after {width: 0;}#sk-container-id-1 div.sk-dashed-wrapped {border: 1px dashed gray;margin: 0 0.4em 0.5em 0.4em;box-sizing: border-box;padding-bottom: 0.4em;background-color: white;}#sk-container-id-1 div.sk-label label {font-family: monospace;font-weight: bold;display: inline-block;line-height: 1.2em;}#sk-container-id-1 div.sk-label-container {text-align: center;}#sk-container-id-1 div.sk-container {/* jupyter's `normalize.less` sets `[hidden] { display: none; }` but bootstrap.min.css set `[hidden] { display: none !important; }` so we also need the `!important` here to be able to override the default hidden behavior on the sphinx rendered scikit-learn.org. See: https://github.com/scikit-learn/scikit-learn/issues/21755 */display: inline-block !important;position: relative;}#sk-container-id-1 div.sk-text-repr-fallback {display: none;}</style><div id=\"sk-container-id-1\" class=\"sk-top-container\"><div class=\"sk-text-repr-fallback\"><pre>LinearRegression()</pre><b>In a Jupyter environment, please rerun this cell to show the HTML representation or trust the notebook. <br />On GitHub, the HTML representation is unable to render, please try loading this page with nbviewer.org.</b></div><div class=\"sk-container\" hidden><div class=\"sk-item\"><div class=\"sk-estimator sk-toggleable\"><input class=\"sk-toggleable__control sk-hidden--visually\" id=\"sk-estimator-id-1\" type=\"checkbox\" checked><label for=\"sk-estimator-id-1\" class=\"sk-toggleable__label sk-toggleable__label-arrow\">LinearRegression</label><div class=\"sk-toggleable__content\"><pre>LinearRegression()</pre></div></div></div></div></div>"
      ],
      "text/plain": [
       "LinearRegression()"
      ]
     },
     "execution_count": 43,
     "metadata": {},
     "output_type": "execute_result"
    }
   ],
   "source": [
    "from sklearn.linear_model import LinearRegression\n",
    "lr=LinearRegression()\n",
    "lr.fit(x_train,y_train)"
   ]
  },
  {
   "cell_type": "code",
   "execution_count": 45,
   "id": "770e0dce-2123-4c5c-beaf-3b798750a8aa",
   "metadata": {},
   "outputs": [
    {
     "data": {
      "text/plain": [
       "array([ 43409.053136  , 128099.28591441,  63164.26677545,  62469.69286371,\n",
       "       114088.73683056, 105916.16311573])"
      ]
     },
     "execution_count": 45,
     "metadata": {},
     "output_type": "execute_result"
    }
   ],
   "source": [
    "y_pred=lr.predict(x_test)\n",
    "y_pred"
   ]
  },
  {
   "cell_type": "code",
   "execution_count": 46,
   "id": "eaab6c4b-4295-4e9d-8f18-a545d26bd274",
   "metadata": {},
   "outputs": [
    {
     "data": {
      "text/plain": [
       "array([ 37731, 122391,  57081,  63218, 116969, 109431], dtype=int64)"
      ]
     },
     "execution_count": 46,
     "metadata": {},
     "output_type": "execute_result"
    }
   ],
   "source": [
    "y_test"
   ]
  },
  {
   "cell_type": "code",
   "execution_count": 48,
   "id": "9061d582-9dfa-4dda-8549-4315be16c77a",
   "metadata": {},
   "outputs": [
    {
     "data": {
      "text/plain": [
       "4102.1688359765585"
      ]
     },
     "execution_count": 48,
     "metadata": {},
     "output_type": "execute_result"
    }
   ],
   "source": [
    "from sklearn.metrics import mean_absolute_error\n",
    "mae=mean_absolute_error(y_pred,y_test)\n",
    "mae"
   ]
  },
  {
   "cell_type": "code",
   "execution_count": null,
   "id": "3786a9a7-5863-4c34-8495-9bd9778dab0b",
   "metadata": {},
   "outputs": [],
   "source": []
  }
 ],
 "metadata": {
  "kernelspec": {
   "display_name": "Python 3 (ipykernel)",
   "language": "python",
   "name": "python3"
  },
  "language_info": {
   "codemirror_mode": {
    "name": "ipython",
    "version": 3
   },
   "file_extension": ".py",
   "mimetype": "text/x-python",
   "name": "python",
   "nbconvert_exporter": "python",
   "pygments_lexer": "ipython3",
   "version": "3.11.7"
  }
 },
 "nbformat": 4,
 "nbformat_minor": 5
}
